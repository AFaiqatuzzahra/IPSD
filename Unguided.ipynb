{
  "nbformat": 4,
  "nbformat_minor": 0,
  "metadata": {
    "colab": {
      "provenance": [],
      "authorship_tag": "ABX9TyPPebAQrBJs3LYKn1Qx3W9t",
      "include_colab_link": true
    },
    "kernelspec": {
      "name": "python3",
      "display_name": "Python 3"
    },
    "language_info": {
      "name": "python"
    }
  },
  "cells": [
    {
      "cell_type": "markdown",
      "metadata": {
        "id": "view-in-github",
        "colab_type": "text"
      },
      "source": [
        "<a href=\"https://colab.research.google.com/github/AFaiqatuzzahra/IPSD/blob/main/Unguided.ipynb\" target=\"_parent\"><img src=\"https://colab.research.google.com/assets/colab-badge.svg\" alt=\"Open In Colab\"/></a>"
      ]
    },
    {
      "cell_type": "code",
      "execution_count": 1,
      "metadata": {
        "colab": {
          "base_uri": "https://localhost:8080/"
        },
        "id": "fLHWYyTWkJy3",
        "outputId": "4c80eeaa-b3d2-418b-8ebf-fe7b4f5c0d9d"
      },
      "outputs": [
        {
          "output_type": "stream",
          "name": "stdout",
          "text": [
            "2\n",
            "5 10\n",
            "17 28 41\n",
            "58 77 100 129\n",
            "160 197 238 281 328\n"
          ]
        }
      ],
      "source": [
        "def is_prime(n):\n",
        "    if n < 2:\n",
        "        return False\n",
        "    for i in range(2, int(n**0.5) + 1):\n",
        "        if n % i == 0:\n",
        "            return False\n",
        "    return True\n",
        "\n",
        "def generate_prime_sum_pattern(rows):\n",
        "    prime_sum = 0\n",
        "    current_num = 2\n",
        "    pattern = []\n",
        "\n",
        "    for row in range(rows):\n",
        "        row_numbers = []\n",
        "        for _ in range(row + 1):\n",
        "            while True:\n",
        "                if is_prime(current_num):\n",
        "                    prime_sum += current_num\n",
        "                    row_numbers.append(prime_sum)\n",
        "                    current_num += 1\n",
        "                    break\n",
        "                current_num += 1\n",
        "        pattern.append(row_numbers)\n",
        "\n",
        "    return pattern\n",
        "\n",
        "def print_pattern(pattern):\n",
        "    for row in pattern:\n",
        "        print(\" \".join(map(str, row)))\n",
        "\n",
        "rows = 5\n",
        "pattern = generate_prime_sum_pattern(rows)\n",
        "print_pattern(pattern)"
      ]
    },
    {
      "cell_type": "code",
      "source": [
        "def merge_odd_indices(list1, list2):\n",
        "    odd_indices1 = list1[1::2]\n",
        "    odd_indices2 = list2[1::2]\n",
        "\n",
        "    merged_list = odd_indices1 + odd_indices2\n",
        "\n",
        "    sorted_list = sorted(merged_list, reverse=True)\n",
        "\n",
        "    return sorted_list\n",
        "\n",
        "list1 = [1, 2, 3, 4, 5, 6, 7, 8]\n",
        "list2 = [10, 20, 30, 40, 50, 60]\n",
        "\n",
        "result = merge_odd_indices(list1, list2)\n",
        "print(\"List 1:\", list1)\n",
        "print(\"List 2:\", list2)\n",
        "print(\"Hasil:\", result)"
      ],
      "metadata": {
        "colab": {
          "base_uri": "https://localhost:8080/"
        },
        "id": "WeHiEGcxksDo",
        "outputId": "3b8e4a35-c784-426c-b8f6-8f47e84725de"
      },
      "execution_count": 2,
      "outputs": [
        {
          "output_type": "stream",
          "name": "stdout",
          "text": [
            "List 1: [1, 2, 3, 4, 5, 6, 7, 8]\n",
            "List 2: [10, 20, 30, 40, 50, 60]\n",
            "Hasil: [60, 40, 20, 8, 6, 4, 2]\n"
          ]
        }
      ]
    },
    {
      "cell_type": "code",
      "source": [
        "class SaldoTidakCukupError(Exception):\n",
        "    pass\n",
        "\n",
        "def atm_transaction():\n",
        "    PIN_BENAR = \"1234\"\n",
        "    saldo = 1000000  # Saldo di awal Rp 1.000.000\n",
        "    percobaan = 3\n",
        "\n",
        "    while percobaan > 0:\n",
        "        pin = input(\"Masukkan PIN Anda: \")\n",
        "        if pin == PIN_BENAR:\n",
        "            print(\"PIN benar. Akses diberikan.\")\n",
        "            break\n",
        "        else:\n",
        "            percobaan -= 1\n",
        "            print(f\"PIN salah. Sisa percobaan: {percobaan}\")\n",
        "\n",
        "    if percobaan == 0:\n",
        "        print(\"Anda telah melebihi batas percobaan. Kartu ATM diblokir.\")\n",
        "        return\n",
        "\n",
        "    while True:\n",
        "        try:\n",
        "            jumlah_penarikan = int(input(\"Masukkan jumlah penarikan: Rp \"))\n",
        "            if jumlah_penarikan > saldo:\n",
        "                raise SaldoTidakCukupError(\"Saldo tidak mencukupi\")\n",
        "            saldo -= jumlah_penarikan\n",
        "            print(f\"Penarikan berhasil. Saldo akhir: Rp {saldo}\")\n",
        "            break\n",
        "        except ValueError:\n",
        "            print(\"Masukkan jumlah yang valid (angka bulat)\")\n",
        "        except SaldoTidakCukupError as e:\n",
        "            print(f\"Error: {e}\")\n",
        "\n",
        "atm_transaction()"
      ],
      "metadata": {
        "colab": {
          "base_uri": "https://localhost:8080/"
        },
        "id": "OW0qTcBOlIQW",
        "outputId": "e2811f9f-ac68-4b84-8d7b-0229da300807"
      },
      "execution_count": 3,
      "outputs": [
        {
          "output_type": "stream",
          "name": "stdout",
          "text": [
            "Masukkan PIN Anda: 1234\n",
            "PIN benar. Akses diberikan.\n",
            "Masukkan jumlah penarikan: Rp 50000\n",
            "Penarikan berhasil. Saldo akhir: Rp 950000\n"
          ]
        }
      ]
    },
    {
      "cell_type": "code",
      "source": [
        "import random\n",
        "\n",
        "def tebak_angka():\n",
        "    angka_rahasia = random.randint(1, 100)\n",
        "    percobaan = 0\n",
        "    maksimal_percobaan = 5\n",
        "\n",
        "    print(\"Selamat datang di permainan Tebak Angka!\")\n",
        "    print(f\"Saya telah memilih sebuah angka antara 1 dan 100. Anda punya {maksimal_percobaan} kesempatan untuk menebak.\")\n",
        "\n",
        "    while percobaan < maksimal_percobaan:\n",
        "        tebakan = int(input(f\"Percobaan ke-{percobaan + 1}. Masukkan tebakan Anda: \"))\n",
        "        percobaan += 1\n",
        "\n",
        "        if tebakan == angka_rahasia:\n",
        "            print(f\"Selamat! Anda berhasil menebak angka {angka_rahasia} dalam {percobaan} percobaan.\")\n",
        "            return\n",
        "\n",
        "        if tebakan < angka_rahasia:\n",
        "            print(\"Tebakan Anda terlalu kecil.\")\n",
        "        else:\n",
        "            print(\"Tebakan Anda terlalu besar.\")\n",
        "\n",
        "    print(f\"Maaf, Anda kehabisan kesempatan. Angka yang benar adalah {angka_rahasia}.\")\n",
        "\n",
        "if __name__ == \"__main__\":\n",
        "    tebak_angka()"
      ],
      "metadata": {
        "colab": {
          "base_uri": "https://localhost:8080/"
        },
        "id": "O-7cpuselVE8",
        "outputId": "d1c82add-1062-457a-c18b-93d8d7785b6b"
      },
      "execution_count": 4,
      "outputs": [
        {
          "output_type": "stream",
          "name": "stdout",
          "text": [
            "Selamat datang di permainan Tebak Angka!\n",
            "Saya telah memilih sebuah angka antara 1 dan 100. Anda punya 5 kesempatan untuk menebak.\n",
            "Percobaan ke-1. Masukkan tebakan Anda: 70\n",
            "Tebakan Anda terlalu kecil.\n",
            "Percobaan ke-2. Masukkan tebakan Anda: 90\n",
            "Tebakan Anda terlalu besar.\n",
            "Percobaan ke-3. Masukkan tebakan Anda: 80\n",
            "Tebakan Anda terlalu besar.\n",
            "Percobaan ke-4. Masukkan tebakan Anda: 77\n",
            "Tebakan Anda terlalu besar.\n",
            "Percobaan ke-5. Masukkan tebakan Anda: 72\n",
            "Tebakan Anda terlalu kecil.\n",
            "Maaf, Anda kehabisan kesempatan. Angka yang benar adalah 76.\n"
          ]
        }
      ]
    },
    {
      "cell_type": "code",
      "source": [
        "def urutan_faktorial(n):\n",
        "    if n == 0:\n",
        "        return [1]\n",
        "    elif n == 1:\n",
        "        return [1, 1]\n",
        "    else:\n",
        "        urutan = urutan_faktorial(n - 1)\n",
        "        urutan.append(n * urutan[-1])\n",
        "        return urutan\n",
        "\n",
        "n = 4\n",
        "hasil = urutan_faktorial(n)\n",
        "print(f\"Input: n = {n}\")\n",
        "print(f\"Output: {', '.join(map(str, hasil))}\")"
      ],
      "metadata": {
        "colab": {
          "base_uri": "https://localhost:8080/"
        },
        "id": "-GKgDX1olq6K",
        "outputId": "9dc1c89a-c239-42d8-8504-a76ed3dbacdb"
      },
      "execution_count": 6,
      "outputs": [
        {
          "output_type": "stream",
          "name": "stdout",
          "text": [
            "Input: n = 4\n",
            "Output: 1, 1, 2, 6, 24\n"
          ]
        }
      ]
    },
    {
      "cell_type": "code",
      "source": [
        "def minimum_coin_change(total, koin_tersedia):\n",
        "    koin_tersedia.sort(reverse=True)\n",
        "    hasil = {}\n",
        "    for koin in koin_tersedia:\n",
        "        if total >= koin:\n",
        "            jumlah = total // koin\n",
        "            hasil[koin] = jumlah\n",
        "            total -= jumlah * koin\n",
        "\n",
        "    return hasil if total == 0 else None\n",
        "\n",
        "print(\"Masukkan nilai koin yang tersedia (pisahkan dengan spasi):\")\n",
        "koin_tersedia = list(map(int, input().split()))\n",
        "\n",
        "print(\"Masukkan jumlah uang yang ingin ditukar:\")\n",
        "total = int(input())\n",
        "\n",
        "hasil = minimum_coin_change(total, koin_tersedia)\n",
        "\n",
        "if hasil:\n",
        "    print(f\"Kombinasi koin minimum untuk {total}:\")\n",
        "    for koin, jumlah in hasil.items():\n",
        "        print(f\"{jumlah} koin bernilai {koin}\")\n",
        "    print(f\"Total koin yang digunakan: {sum(hasil.values())}\")\n",
        "else:\n",
        "    print(\"Tidak dapat menukar dengan koin yang tersedia.\")"
      ],
      "metadata": {
        "colab": {
          "base_uri": "https://localhost:8080/"
        },
        "id": "Dgz2MiBGlzNK",
        "outputId": "541d97ae-deab-4ad1-e0f0-6ddfdf28b45f"
      },
      "execution_count": 7,
      "outputs": [
        {
          "output_type": "stream",
          "name": "stdout",
          "text": [
            "Masukkan nilai koin yang tersedia (pisahkan dengan spasi):\n",
            "87 23 1 54 27\n",
            "Masukkan jumlah uang yang ingin ditukar:\n",
            "57\n",
            "Kombinasi koin minimum untuk 57:\n",
            "1 koin bernilai 54\n",
            "3 koin bernilai 1\n",
            "Total koin yang digunakan: 4\n"
          ]
        }
      ]
    },
    {
      "cell_type": "code",
      "source": [
        "def balik_kata_ke_list(kalimat):\n",
        "    kata_kata = kalimat.split()\n",
        "\n",
        "    kata_terbalik = [kata[::-1] for kata in kata_kata]\n",
        "\n",
        "    return kata_terbalik\n",
        "\n",
        "input_string = input(\"Masukkan sebuah kalimat: \")\n",
        "hasil = balik_kata_ke_list(input_string)\n",
        "print(\"Output:\", hasil)"
      ],
      "metadata": {
        "colab": {
          "base_uri": "https://localhost:8080/"
        },
        "id": "o4kNGqahmUVc",
        "outputId": "c16f2f47-c36a-4531-8d26-13351730ae0a"
      },
      "execution_count": 8,
      "outputs": [
        {
          "output_type": "stream",
          "name": "stdout",
          "text": [
            "Masukkan sebuah kalimat: byon combat sport empat\n",
            "Output: ['noyb', 'tabmoc', 'trops', 'tapme']\n"
          ]
        }
      ]
    },
    {
      "cell_type": "code",
      "source": [
        "import datetime\n",
        "\n",
        "class Buku:\n",
        "    def __init__(self, judul, penulis, tahun_terbit):\n",
        "        self.judul = judul\n",
        "        self.penulis = penulis\n",
        "        self.tahun_terbit = tahun_terbit\n",
        "\n",
        "    def tampilkan_info(self):\n",
        "        return f\"Judul: {self.judul}, Penulis: {self.penulis}, Tahun Terbit: {self.tahun_terbit}\"\n",
        "\n",
        "    def hitung_usia(self):\n",
        "        tahun_sekarang = datetime.datetime.now().year\n",
        "        return tahun_sekarang - self.tahun_terbit\n",
        "\n",
        "buku1 = Buku(\"Python Crash Course\", \"Eric Matthes\", 2015)\n",
        "buku2 = Buku(\"Clean Code\", \"Robert C. Martin\", 2008)\n",
        "buku3 = Buku(\"The Pragmatic Programmer\", \"Andrew Hunt\", 1999)\n",
        "\n",
        "for i, buku in enumerate([buku1, buku2, buku3], 1):\n",
        "    print(f\"\\nBuku {i}:\")\n",
        "    print(buku.tampilkan_info())\n",
        "    print(f\"Usia buku: {buku.hitung_usia()} tahun\")"
      ],
      "metadata": {
        "colab": {
          "base_uri": "https://localhost:8080/"
        },
        "id": "ZCYiqGFwmf38",
        "outputId": "c6f6a3bc-5118-4ec2-f34b-cb68e0b9bb6b"
      },
      "execution_count": 9,
      "outputs": [
        {
          "output_type": "stream",
          "name": "stdout",
          "text": [
            "\n",
            "Buku 1:\n",
            "Judul: Python Crash Course, Penulis: Eric Matthes, Tahun Terbit: 2015\n",
            "Usia buku: 9 tahun\n",
            "\n",
            "Buku 2:\n",
            "Judul: Clean Code, Penulis: Robert C. Martin, Tahun Terbit: 2008\n",
            "Usia buku: 16 tahun\n",
            "\n",
            "Buku 3:\n",
            "Judul: The Pragmatic Programmer, Penulis: Andrew Hunt, Tahun Terbit: 1999\n",
            "Usia buku: 25 tahun\n"
          ]
        }
      ]
    },
    {
      "cell_type": "code",
      "source": [
        "def pencarian_biner_modifikasi(arr, target):\n",
        "    if target % 2 != 0:\n",
        "        return \"Nilai ganjil tidak dapat ditemukan dalam list genap.\"\n",
        "\n",
        "    low = 0\n",
        "    high = len(arr) - 1\n",
        "\n",
        "    while low <= high:\n",
        "        mid = (low + high) // 2\n",
        "        if arr[mid] == target:\n",
        "            return f\"Nilai {target} ditemukan pada indeks {mid}.\"\n",
        "        elif arr[mid] < target:\n",
        "            low = mid + 1\n",
        "        else:\n",
        "            high = mid - 1\n",
        "\n",
        "    return f\"Nilai {target} tidak ditemukan dalam list.\"\n",
        "\n",
        "list_genap = [2, 4, 6, 8, 10, 12, 14, 16, 18, 20]\n",
        "\n",
        "print(\"List genap:\", list_genap)\n",
        "print(pencarian_biner_modifikasi(list_genap, 8))\n",
        "print(pencarian_biner_modifikasi(list_genap, 7))\n",
        "print(pencarian_biner_modifikasi(list_genap, 22))"
      ],
      "metadata": {
        "colab": {
          "base_uri": "https://localhost:8080/"
        },
        "id": "4R-0aEEfmoU2",
        "outputId": "9fe5706f-0a11-40e8-87ac-8afc59acae28"
      },
      "execution_count": 11,
      "outputs": [
        {
          "output_type": "stream",
          "name": "stdout",
          "text": [
            "List genap: [2, 4, 6, 8, 10, 12, 14, 16, 18, 20]\n",
            "Nilai 8 ditemukan pada indeks 3.\n",
            "Nilai ganjil tidak dapat ditemukan dalam list genap.\n",
            "Nilai 22 tidak ditemukan dalam list.\n"
          ]
        }
      ]
    }
  ]
}